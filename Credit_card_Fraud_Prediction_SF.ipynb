{
 "cells": [
  {
   "cell_type": "markdown",
   "metadata": {
    "id": "sY3PkE6Kclha"
   },
   "source": [
    "# Credit card Fraud\n",
    "Author: Krishnav Dave"
   ]
  },
  {
   "cell_type": "markdown",
   "metadata": {
    "id": "gdw3SydHclhc"
   },
   "source": [
    "### Problem Statement\n",
    "\n",
    "Build an automation which could classify future transaction as valid or fraud"
   ]
  },
  {
   "cell_type": "markdown",
   "metadata": {
    "id": "KBVyX-4Fclhd"
   },
   "source": [
    "### Dataset\n",
    "\n",
    "1.Month: transaction month\n",
    "\n",
    "2.Date: transaction date\n",
    "\n",
    "3.Day: transaction day\n",
    "\n",
    "4.Time: transaction time\n",
    "\n",
    "5.Origin_City: city where the customer is registered from\n",
    "\n",
    "6.Destination_City: city where the transaction is generated\n",
    "\n",
    "7.Transaction_Type: method of payment (Point of sales or internet)\n",
    "\n",
    "8.Type: Valid transaction or raud transaction\n",
    "\n",
    "9.Amount: transaction amount"
   ]
  },
  {
   "cell_type": "markdown",
   "metadata": {
    "id": "mUdlrjEnclhe"
   },
   "source": [
    "### Code Structure\n",
    "\n",
    "1. Import Data\n",
    "\n",
    "2. Data Preparation\n",
    "\n",
    "3. EDA\n",
    "\n",
    "4. ML - Ensemble Techniques\n",
    "\n",
    "5. Conclusion"
   ]
  },
  {
   "cell_type": "markdown",
   "metadata": {
    "id": "S4h_ptdAclhf"
   },
   "source": [
    "### Load Data"
   ]
  },
  {
   "cell_type": "code",
   "execution_count": null,
   "metadata": {
    "id": "9bkUMDzXclhg"
   },
   "outputs": [],
   "source": [
    "# Standard Library\n"
   ]
  },
  {
   "cell_type": "code",
   "execution_count": null,
   "metadata": {
    "id": "RWt9_T7kclhm",
    "outputId": "615cbfc7-407a-411c-f7cc-5ae3c6ee9790"
   },
   "outputs": [],
   "source": [
    "# Training dataset\n"
   ]
  },
  {
   "cell_type": "code",
   "execution_count": null,
   "metadata": {
    "id": "Z0nYQpgzclhq",
    "outputId": "70c295cf-38d6-4ab4-8aec-3f04878c4ccc"
   },
   "outputs": [],
   "source": []
  },
  {
   "cell_type": "markdown",
   "metadata": {
    "id": "ng6ifoCKclht"
   },
   "source": [
    "### Data Preparation"
   ]
  },
  {
   "cell_type": "code",
   "execution_count": null,
   "metadata": {
    "id": "hfRW8yDfclhu"
   },
   "outputs": [],
   "source": [
    "# Categorial to numeric\n",
    "\n"
   ]
  },
  {
   "cell_type": "code",
   "execution_count": null,
   "metadata": {},
   "outputs": [],
   "source": []
  },
  {
   "cell_type": "code",
   "execution_count": null,
   "metadata": {
    "id": "HJTBR1BMclhy"
   },
   "outputs": [],
   "source": [
    "# Categorical to numeric : CITY [If origin city and destination city not equal then flag it 1]\n",
    "\n"
   ]
  },
  {
   "cell_type": "code",
   "execution_count": null,
   "metadata": {
    "id": "bKsPAkdAclh5"
   },
   "outputs": [],
   "source": [
    "# Categorical to numeric : Amount  [if amount greater than its mean then assign it 1]\n",
    "\n"
   ]
  },
  {
   "cell_type": "code",
   "execution_count": null,
   "metadata": {
    "id": "H5_SW1X7clh_",
    "outputId": "86ae7d24-1564-469f-e290-45c0320c930a"
   },
   "outputs": [],
   "source": []
  },
  {
   "cell_type": "code",
   "execution_count": null,
   "metadata": {
    "id": "L5QwhMzkcliC",
    "outputId": "c3cdf1bf-e1ba-4c3e-d159-ad1816453c2e"
   },
   "outputs": [],
   "source": []
  },
  {
   "cell_type": "code",
   "execution_count": null,
   "metadata": {
    "id": "DTqZe1rFcliG",
    "outputId": "0e0c7195-699f-41e7-d980-db3e44659277"
   },
   "outputs": [],
   "source": []
  },
  {
   "cell_type": "markdown",
   "metadata": {
    "id": "tBe_ghhNcliK"
   },
   "source": [
    "## EDA"
   ]
  },
  {
   "cell_type": "code",
   "execution_count": null,
   "metadata": {
    "id": "EQ-ME1b3cliL",
    "outputId": "739970e3-b276-4cb1-80c9-23ffa44f3044"
   },
   "outputs": [],
   "source": [
    "# Target balance check: Not balanced in this case\n",
    "\n"
   ]
  },
  {
   "cell_type": "code",
   "execution_count": null,
   "metadata": {
    "id": "czDWyyYii2dN",
    "outputId": "53c886db-16b2-4b00-ecf6-cf64852b75f8"
   },
   "outputs": [],
   "source": []
  },
  {
   "cell_type": "code",
   "execution_count": null,
   "metadata": {
    "id": "0yjT3KRUcliR",
    "outputId": "7674bfed-19a5-4f21-c1b1-c83426d33735"
   },
   "outputs": [],
   "source": [
    "# Time and date vs fraud\n",
    "\n"
   ]
  },
  {
   "cell_type": "code",
   "execution_count": null,
   "metadata": {
    "id": "11aBceyRi2dS",
    "outputId": "c556f535-59ed-4fec-c415-e324a57b2f20"
   },
   "outputs": [],
   "source": [
    "# Group: Date vs Type Fraud\n",
    "\n"
   ]
  },
  {
   "cell_type": "code",
   "execution_count": null,
   "metadata": {
    "id": "p0KHy9YNi2dU",
    "outputId": "e3f22d32-f55c-4e08-85dc-444a67d92817"
   },
   "outputs": [],
   "source": [
    "# Group: Time vs Type Fraud \n",
    "\n"
   ]
  },
  {
   "cell_type": "code",
   "execution_count": null,
   "metadata": {
    "id": "j7IyLZ-pi2dX",
    "outputId": "f7fb4252-fdc6-45e2-fdd8-14ba8c1bcd0b"
   },
   "outputs": [],
   "source": [
    "# Group: Day vs Type Fraud \n",
    "\n"
   ]
  },
  {
   "cell_type": "code",
   "execution_count": null,
   "metadata": {
    "id": "PF1uoBUti2dZ",
    "outputId": "cc393415-2273-43ac-af25-4e98e685cdea"
   },
   "outputs": [],
   "source": [
    "# Group: Month vs Type Fraud \n",
    "\n"
   ]
  },
  {
   "cell_type": "code",
   "execution_count": null,
   "metadata": {
    "id": "grjNe3qQi2db",
    "outputId": "03a6d104-80a9-47f4-9647-0bb463b7831b"
   },
   "outputs": [],
   "source": [
    "# Group : date, time and day vs fraud\n",
    "\n"
   ]
  },
  {
   "cell_type": "code",
   "execution_count": null,
   "metadata": {
    "id": "IyzDY1xxi2de",
    "outputId": "457fe008-c4f2-4be3-f4c5-f34616f12783"
   },
   "outputs": [],
   "source": []
  },
  {
   "cell_type": "markdown",
   "metadata": {
    "id": "8hwv7b8AcljA"
   },
   "source": [
    "### Machine Learning: Supervised Learning"
   ]
  },
  {
   "cell_type": "code",
   "execution_count": null,
   "metadata": {
    "id": "Bfma8AUScljB"
   },
   "outputs": [],
   "source": [
    "# Independent vs target variable\n",
    "\n",
    "\n",
    "\n",
    "# Test Train Split\n",
    "\n"
   ]
  },
  {
   "cell_type": "code",
   "execution_count": null,
   "metadata": {
    "id": "0U46BgYgcljE"
   },
   "outputs": [],
   "source": [
    "# Normalisation\n"
   ]
  },
  {
   "cell_type": "code",
   "execution_count": null,
   "metadata": {},
   "outputs": [],
   "source": []
  },
  {
   "cell_type": "code",
   "execution_count": null,
   "metadata": {
    "id": "UwGm2ZJHcljI"
   },
   "outputs": [],
   "source": []
  },
  {
   "cell_type": "code",
   "execution_count": null,
   "metadata": {
    "id": "gq78_96ei2do"
   },
   "outputs": [],
   "source": []
  },
  {
   "cell_type": "code",
   "execution_count": null,
   "metadata": {},
   "outputs": [],
   "source": [
    "#Using Statmodels\n",
    "\n",
    "#logit = sm.Logit(y_train, X_train_sd)\n",
    "#log_result = logit.fit()"
   ]
  },
  {
   "cell_type": "code",
   "execution_count": null,
   "metadata": {},
   "outputs": [],
   "source": [
    "#print(log_result.summary())"
   ]
  },
  {
   "cell_type": "code",
   "execution_count": null,
   "metadata": {},
   "outputs": [],
   "source": [
    "#log_result.summary2()"
   ]
  },
  {
   "cell_type": "code",
   "execution_count": null,
   "metadata": {
    "id": "n56i7RCwi2dr"
   },
   "outputs": [],
   "source": []
  },
  {
   "cell_type": "code",
   "execution_count": null,
   "metadata": {
    "id": "jZmzLCGri2dt",
    "outputId": "25e9c5d1-6952-4329-8999-5111cf59c51e"
   },
   "outputs": [],
   "source": []
  },
  {
   "cell_type": "markdown",
   "metadata": {
    "id": "BaRMnA1VcljZ"
   },
   "source": [
    "# Conclusion\n",
    "\n",
    "- With this particular set of predictors, we haven't been able to model the target variable\n",
    "- There there are zero true psitives by SVM and Logistic regression\n",
    "- We need better data/predictors"
   ]
  }
 ],
 "metadata": {
  "colab": {
   "name": "Credit_card_Fraud_Prediction.ipynb",
   "provenance": []
  },
  "kernelspec": {
   "display_name": "Python 3",
   "language": "python",
   "name": "python3"
  },
  "language_info": {
   "codemirror_mode": {
    "name": "ipython",
    "version": 3
   },
   "file_extension": ".py",
   "mimetype": "text/x-python",
   "name": "python",
   "nbconvert_exporter": "python",
   "pygments_lexer": "ipython3",
   "version": "3.7.6"
  }
 },
 "nbformat": 4,
 "nbformat_minor": 1
}
